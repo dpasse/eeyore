{
 "metadata": {
  "language_info": {
   "codemirror_mode": {
    "name": "ipython",
    "version": 3
   },
   "file_extension": ".py",
   "mimetype": "text/x-python",
   "name": "python",
   "nbconvert_exporter": "python",
   "pygments_lexer": "ipython3",
   "version": "3.8.5"
  },
  "orig_nbformat": 2,
  "kernelspec": {
   "name": "python37364bit3cf912283dc549d6bc11fd68faf51cdb",
   "display_name": "Python 3.7.3 64-bit",
   "language": "python"
  }
 },
 "nbformat": 4,
 "nbformat_minor": 2,
 "cells": [
  {
   "cell_type": "code",
   "execution_count": null,
   "metadata": {},
   "outputs": [],
   "source": []
  },
  {
   "cell_type": "code",
   "execution_count": 2,
   "metadata": {},
   "outputs": [],
   "source": [
    "import re\n",
    "import json\n",
    "import requests\n",
    "\n",
    "from bs4 import BeautifulSoup"
   ]
  },
  {
   "cell_type": "code",
   "execution_count": null,
   "metadata": {},
   "outputs": [],
   "source": []
  },
  {
   "cell_type": "code",
   "execution_count": 49,
   "metadata": {},
   "outputs": [],
   "source": [
    "def download(url):\n",
    "    response = requests.get(\n",
    "        url,\n",
    "        headers={'User-Agent': 'Mozilla/5.0'}\n",
    "    )\n",
    "\n",
    "    return response\n",
    "\n",
    "def parse(line):\n",
    "    parts = line.split(r' - ')\n",
    "\n",
    "    label = parts[0].strip()\n",
    "    definition = ' '.join(parts[1:]).strip()\n",
    "\n",
    "    if len(label) == 0:\n",
    "        return None\n",
    "\n",
    "    return {\n",
    "        'label': label[0].upper() + label[1:],\n",
    "        'definition': definition.lower()\n",
    "    }\n",
    "\n",
    "def transform_unicode(text):\n",
    "    text = re.sub('—', '-', text)\n",
    "    text = re.sub('\\xa0', ' ', text)\n",
    "    text = re.sub('\\u00a0', '', text)\n",
    "    text = re.sub('\\u201c', '\"', text)\n",
    "    text = re.sub('\\u201d', '\"', text)\n",
    "    text = re.sub('\\u2019', \"'\", text)\n",
    "    text = re.sub('\\u2018', \"'\", text)\n",
    "    text = re.sub('\\u2013', '-', text)\n",
    "    text = re.sub('\\u00e9', 'e', text)\n",
    "    text = re.sub('\\u00f4', 'o', text)\n",
    "    text = re.sub('\\u00fc', 'u', text)\n",
    "    text = re.sub('\\ufeff', ' ', text)\n",
    "\n",
    "    text = re.sub(r'\\(en\\)', '', text)\n",
    "    text = re.sub(r'[ ]+', ' ', text)\n",
    "\n",
    "    text = re.sub(r'([,.])(\\\")', '\\g<2>\\g<1>', text)\n",
    "    text = re.sub(r'\\s([,.])(\\s|$)', '\\g<1>\\g<2>', text)\n",
    "\n",
    "    return text"
   ]
  },
  {
   "cell_type": "code",
   "execution_count": null,
   "metadata": {},
   "outputs": [],
   "source": []
  },
  {
   "source": [
    "### vinology"
   ],
   "cell_type": "markdown",
   "metadata": {}
  },
  {
   "cell_type": "code",
   "execution_count": 3,
   "metadata": {},
   "outputs": [],
   "source": [
    "bs = BeautifulSoup(\n",
    "    download('https://www.vinology.com/wine-terms/').text\n",
    ")"
   ]
  },
  {
   "cell_type": "code",
   "execution_count": null,
   "metadata": {},
   "outputs": [],
   "source": []
  },
  {
   "cell_type": "code",
   "execution_count": 4,
   "metadata": {},
   "outputs": [],
   "source": [
    "def clean(text):\n",
    "    text = transform_unicode(text)\n",
    "    text = re.sub(\n",
    "        'We created this glossary of wine terminology for all wine lovers, especially our wine students.\\s+In this wine dictionary, you can find the most important wine terms and their definitions. Enjoy!',\n",
    "        '',\n",
    "        text\n",
    "    )\n",
    "    text = re.sub(r'[ ]+', ' ', text)\n",
    "\n",
    "    return text\n",
    "\n",
    "div = bs.find(\n",
    "    'div',\n",
    "    { 'class': 'entry-content' }\n",
    ")\n",
    "\n",
    "ps = div.find_all('p')\n",
    "\n",
    "text = '\\n'.join(\n",
    "    [el.getText() for el in ps]\n",
    ")\n",
    "\n",
    "concepts = []\n",
    "for line in clean(text).split('\\n'):\n",
    "    if len(line) == 0:\n",
    "        continue\n",
    "\n",
    "    concept = parse(line)\n",
    "    if concept is not None:\n",
    "        concepts.append(concept)"
   ]
  },
  {
   "cell_type": "code",
   "execution_count": null,
   "metadata": {},
   "outputs": [],
   "source": []
  },
  {
   "cell_type": "code",
   "execution_count": 5,
   "metadata": {},
   "outputs": [],
   "source": [
    "with open('./terminology/vinology.json', 'w') as vino_definitions:\n",
    "    vino_definitions.write(\n",
    "        json.dumps(concepts, indent=4)\n",
    "    )"
   ]
  },
  {
   "cell_type": "code",
   "execution_count": null,
   "metadata": {},
   "outputs": [],
   "source": []
  },
  {
   "source": [
    "### winemag"
   ],
   "cell_type": "markdown",
   "metadata": {}
  },
  {
   "cell_type": "code",
   "execution_count": 6,
   "metadata": {},
   "outputs": [],
   "source": [
    "bs = BeautifulSoup(\n",
    "    download('https://www.winemag.com/glossary/').text\n",
    ")"
   ]
  },
  {
   "cell_type": "code",
   "execution_count": null,
   "metadata": {},
   "outputs": [],
   "source": []
  },
  {
   "cell_type": "code",
   "execution_count": 7,
   "metadata": {
    "tags": []
   },
   "outputs": [],
   "source": [
    "dls = bs.find_all('dl', { 'class': 'terms' })\n",
    "\n",
    "concepts = []\n",
    "for dl in dls:\n",
    "    text = '\\n'.join(\n",
    "        [ str(l) for l in dl.find_all(['dt', 'dd']) ]\n",
    "    )\n",
    "\n",
    "    text = re.sub(r'<dt[^>]+>', '', text)\n",
    "    text = re.sub(r'</dt>\\s+<dd>', ' - ', text)\n",
    "    text = re.sub(r'</dd>', '', text)\n",
    "    text = transform_unicode(text)\n",
    "\n",
    "    for line in text.split('\\n'):\n",
    "        concept = parse(line)\n",
    "        if concept is not None:\n",
    "            concepts.append(concept)"
   ]
  },
  {
   "cell_type": "code",
   "execution_count": null,
   "metadata": {},
   "outputs": [],
   "source": []
  },
  {
   "cell_type": "code",
   "execution_count": 8,
   "metadata": {},
   "outputs": [],
   "source": [
    "with open('./terminology/winemag.json', 'w') as winemag_definitions:\n",
    "    winemag_definitions.write(\n",
    "        json.dumps(concepts, indent=4)\n",
    "    )"
   ]
  },
  {
   "cell_type": "code",
   "execution_count": null,
   "metadata": {},
   "outputs": [],
   "source": []
  },
  {
   "source": [
    "### usualwines"
   ],
   "cell_type": "markdown",
   "metadata": {}
  },
  {
   "cell_type": "code",
   "execution_count": 9,
   "metadata": {},
   "outputs": [],
   "source": [
    "bs = BeautifulSoup(\n",
    "    download('https://usualwines.com/blogs/knowledge-base/wine-terms').text\n",
    ")"
   ]
  },
  {
   "cell_type": "code",
   "execution_count": null,
   "metadata": {},
   "outputs": [],
   "source": []
  },
  {
   "cell_type": "code",
   "execution_count": 21,
   "metadata": {
    "tags": []
   },
   "outputs": [
    {
     "output_type": "error",
     "ename": "AttributeError",
     "evalue": "'NoneType' object has no attribute 'find_all'",
     "traceback": [
      "\u001b[0;31m---------------------------------------------------------------------------\u001b[0m",
      "\u001b[0;31mAttributeError\u001b[0m                            Traceback (most recent call last)",
      "\u001b[0;32m<ipython-input-21-73eb91a2b88a>\u001b[0m in \u001b[0;36m<module>\u001b[0;34m\u001b[0m\n\u001b[1;32m      1\u001b[0m \u001b[0marticle_wrapper\u001b[0m \u001b[0;34m=\u001b[0m \u001b[0mbs\u001b[0m\u001b[0;34m.\u001b[0m\u001b[0mfind\u001b[0m\u001b[0;34m(\u001b[0m\u001b[0;34m'div'\u001b[0m\u001b[0;34m,\u001b[0m \u001b[0;34m{\u001b[0m \u001b[0;34m'class'\u001b[0m\u001b[0;34m:\u001b[0m \u001b[0;34m'article-wrapper'\u001b[0m \u001b[0;34m}\u001b[0m\u001b[0;34m)\u001b[0m\u001b[0;34m\u001b[0m\u001b[0;34m\u001b[0m\u001b[0m\n\u001b[1;32m      2\u001b[0m \u001b[0;34m\u001b[0m\u001b[0m\n\u001b[0;32m----> 3\u001b[0;31m \u001b[0mps\u001b[0m \u001b[0;34m=\u001b[0m \u001b[0marticle_wrapper\u001b[0m\u001b[0;34m.\u001b[0m\u001b[0mfind_all\u001b[0m\u001b[0;34m(\u001b[0m\u001b[0;34m'p'\u001b[0m\u001b[0;34m)\u001b[0m\u001b[0;34m\u001b[0m\u001b[0;34m\u001b[0m\u001b[0m\n\u001b[0m\u001b[1;32m      4\u001b[0m text = '\\n'.join(\n\u001b[1;32m      5\u001b[0m     \u001b[0;34m[\u001b[0m\u001b[0mstr\u001b[0m\u001b[0;34m(\u001b[0m\u001b[0mel\u001b[0m\u001b[0;34m)\u001b[0m \u001b[0;32mfor\u001b[0m \u001b[0mel\u001b[0m \u001b[0;32min\u001b[0m \u001b[0mps\u001b[0m\u001b[0;34m]\u001b[0m\u001b[0;34m\u001b[0m\u001b[0;34m\u001b[0m\u001b[0m\n",
      "\u001b[0;31mAttributeError\u001b[0m: 'NoneType' object has no attribute 'find_all'"
     ]
    }
   ],
   "source": [
    "article_wrapper = bs.find('div', { 'class': 'article-wrapper' })\n",
    "\n",
    "ps = article_wrapper.find_all('p')\n",
    "text = '\\n'.join(\n",
    "    [str(el) for el in ps]\n",
    ")\n",
    "\n",
    "text = re.sub(\n",
    "    r'<p><b>(.+?)</b></p>',\n",
    "    'DEF: \\g<1> - ',\n",
    "    text,\n",
    "    flags=re.MULTILINE\n",
    ")\n",
    "text = re.sub(\n",
    "    r'<span[^>]+?>(.+?)</span>',\n",
    "    ' \\g<1> ',\n",
    "    text\n",
    ")\n",
    "text = re.sub(\n",
    "    r'<a[^>]+?>(.+?)</a>', \n",
    "    ' \\g<1> ',\n",
    "    text\n",
    ")\n",
    "text = re.sub(r'<img[^>]+?/>', ' ', text)\n",
    "text = re.sub(r'\\s+<p>(.+?)</p>', ' \\g<1> ', text)\n",
    "text = re.sub(r'<strong>(.+?)</strong>', ' \\g<1> ', text)\n",
    "\n",
    "text = transform_unicode(text)\n",
    "\n",
    "definitions = re.findall(\n",
    "    r'^DEF:[^\\n]+', text,\n",
    "    flags=re.MULTILINE\n",
    ")\n",
    "\n",
    "concepts = []\n",
    "for line in definitions:\n",
    "    line = re.sub(r'^DEF:', ' ', line)\n",
    "\n",
    "    concept = parse(line)\n",
    "    if concept is not None:\n",
    "        concepts.append(concept)"
   ]
  },
  {
   "cell_type": "code",
   "execution_count": null,
   "metadata": {},
   "outputs": [],
   "source": []
  },
  {
   "cell_type": "code",
   "execution_count": 11,
   "metadata": {},
   "outputs": [],
   "source": [
    "with open('./terminology/usualwines.json', 'w') as winemag_definitions:\n",
    "    winemag_definitions.write(\n",
    "        json.dumps(concepts, indent=4)\n",
    "    )"
   ]
  },
  {
   "cell_type": "code",
   "execution_count": null,
   "metadata": {},
   "outputs": [],
   "source": []
  },
  {
   "source": [
    "### tiedemannwines"
   ],
   "cell_type": "markdown",
   "metadata": {}
  },
  {
   "cell_type": "code",
   "execution_count": 7,
   "metadata": {},
   "outputs": [],
   "source": [
    "bs = BeautifulSoup(\n",
    "    download('https://www.tiedemannwines.com/wine-descriptions').text\n",
    ")"
   ]
  },
  {
   "cell_type": "code",
   "execution_count": 22,
   "metadata": {},
   "outputs": [],
   "source": [
    "text = ''\n",
    "wrappers = bs.find_all('div', { 'class': 'sqs-block-content' })\n",
    "\n",
    "for wrapper in wrappers:\n",
    "    ps = wrapper.find_all('p')\n",
    "    text += '\\n'.join(\n",
    "        [str(el) for el in ps]\n",
    "    )\n",
    "\n",
    "text = re.sub(\n",
    "    r' - </strong>',\n",
    "    '</strong> - ',\n",
    "    text,\n",
    "    flags=re.MULTILINE\n",
    ")\n",
    "\n",
    "text = re.sub(\n",
    "    r'</?strong>',\n",
    "    '',\n",
    "    text\n",
    ")\n",
    "\n",
    "text = re.sub(\n",
    "    r'</p>',\n",
    "    '',\n",
    "    text\n",
    ")\n",
    "\n",
    "text = re.sub(\n",
    "    r'<p>',\n",
    "    'DEF: ',\n",
    "    text\n",
    ")\n",
    "\n",
    "text = transform_unicode(text)\n",
    "\n",
    "concepts = []\n",
    "for line in text.split('\\n'):\n",
    "    line = re.sub(r'^DEF:', ' ', line)\n",
    "\n",
    "    concept = parse(line)\n",
    "    if concept is not None:\n",
    "        concepts.append(concept)"
   ]
  },
  {
   "cell_type": "code",
   "execution_count": null,
   "metadata": {},
   "outputs": [],
   "source": []
  },
  {
   "cell_type": "code",
   "execution_count": 23,
   "metadata": {},
   "outputs": [],
   "source": [
    "with open('./terminology/tiedemannwines.json', 'w') as tiedemannwines_definitions:\n",
    "    tiedemannwines_definitions.write(\n",
    "        json.dumps(concepts, indent=4)\n",
    "    )"
   ]
  },
  {
   "cell_type": "code",
   "execution_count": null,
   "metadata": {},
   "outputs": [],
   "source": []
  },
  {
   "source": [
    "### wineinvestment"
   ],
   "cell_type": "markdown",
   "metadata": {}
  },
  {
   "cell_type": "code",
   "execution_count": 50,
   "metadata": {},
   "outputs": [],
   "source": [
    "bs = BeautifulSoup(\n",
    "    download('https://www.wineinvestment.com/wine-blog/2019/11/how-to-describe-wine-like-a-pro/').text\n",
    ")"
   ]
  },
  {
   "cell_type": "code",
   "execution_count": 51,
   "metadata": {},
   "outputs": [],
   "source": [
    "wrapper = bs.find('div', { 'class': 'm-generalContentBlock__content' })\n",
    "\n",
    "concepts = []\n",
    "for item in wrapper.find_all('div'):\n",
    "    label = transform_unicode(item.find('h3').text)\n",
    "    definition = transform_unicode(item.find('p').text)\n",
    "\n",
    "    concepts.append({\n",
    "        'label': label[0].upper() + label[1:],\n",
    "        'definition': definition.lower()\n",
    "    })"
   ]
  },
  {
   "cell_type": "code",
   "execution_count": 52,
   "metadata": {},
   "outputs": [],
   "source": [
    "with open('./terminology/wineinvestment.json', 'w') as wineinvestment_definitions:\n",
    "    wineinvestment_definitions.write(\n",
    "        json.dumps(concepts, indent=4)\n",
    "    )"
   ]
  },
  {
   "cell_type": "code",
   "execution_count": null,
   "metadata": {},
   "outputs": [],
   "source": []
  },
  {
   "source": [
    "### KB Candidate"
   ],
   "cell_type": "markdown",
   "metadata": {}
  },
  {
   "cell_type": "code",
   "execution_count": 53,
   "metadata": {},
   "outputs": [],
   "source": [
    "sites = [\n",
    "    'usualwines',\n",
    "    'vinology',\n",
    "    'winemag',\n",
    "    'tiedemannwines',\n",
    "    'wineinvestment'\n",
    "]\n",
    "\n",
    "kb_items = []\n",
    "for site in sites:\n",
    "    with open(f'terminology/{site}.json') as site_input_file:\n",
    "        kb_items.extend(\n",
    "            json.loads(site_input_file.read())\n",
    "        )\n",
    "\n",
    "kb_items = sorted(\n",
    "    kb_items,\n",
    "    key=lambda item: item['label']\n",
    ")"
   ]
  },
  {
   "cell_type": "code",
   "execution_count": null,
   "metadata": {},
   "outputs": [],
   "source": []
  },
  {
   "cell_type": "code",
   "execution_count": 54,
   "metadata": {},
   "outputs": [],
   "source": [
    "kb = {}\n",
    "concept_id = 1\n",
    "\n",
    "def get_key(text: str) -> str:\n",
    "    return text.lower()\n",
    "\n",
    "for item in kb_items:\n",
    "    \n",
    "    label = item['label']\n",
    "    definition = item['definition']\n",
    "\n",
    "    key = get_key(label)\n",
    "\n",
    "    if key in kb:\n",
    "        kb[key]['definitions'].append(definition)\n",
    "    else:\n",
    "        kb[key] = {\n",
    "            'label': label,\n",
    "            'definitions': [definition],\n",
    "            'alias': [],\n",
    "            'concept': f'W-{concept_id}',\n",
    "            'category': '-1'\n",
    "        }\n",
    "\n",
    "        concept_id += 1"
   ]
  },
  {
   "cell_type": "code",
   "execution_count": null,
   "metadata": {},
   "outputs": [],
   "source": []
  },
  {
   "cell_type": "code",
   "execution_count": 55,
   "metadata": {},
   "outputs": [],
   "source": [
    "with open('./terminology/kb_v1.json', 'w') as vino_definitions:\n",
    "    vino_definitions.write(\n",
    "        json.dumps(list(kb.values()), indent=4)\n",
    "    )"
   ]
  },
  {
   "cell_type": "code",
   "execution_count": null,
   "metadata": {},
   "outputs": [],
   "source": []
  }
 ]
}