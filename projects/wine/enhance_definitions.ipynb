{
 "metadata": {
  "language_info": {
   "codemirror_mode": {
    "name": "ipython",
    "version": 3
   },
   "file_extension": ".py",
   "mimetype": "text/x-python",
   "name": "python",
   "nbconvert_exporter": "python",
   "pygments_lexer": "ipython3",
   "version": "3.8.5"
  },
  "orig_nbformat": 2,
  "kernelspec": {
   "name": "python37364bit3cf912283dc549d6bc11fd68faf51cdb",
   "display_name": "Python 3.7.3 64-bit",
   "language": "python"
  }
 },
 "nbformat": 4,
 "nbformat_minor": 2,
 "cells": [
  {
   "cell_type": "code",
   "execution_count": null,
   "metadata": {},
   "outputs": [],
   "source": []
  },
  {
   "cell_type": "code",
   "execution_count": 1,
   "metadata": {},
   "outputs": [],
   "source": [
    "import json"
   ]
  },
  {
   "cell_type": "code",
   "execution_count": null,
   "metadata": {},
   "outputs": [],
   "source": []
  },
  {
   "cell_type": "code",
   "execution_count": 2,
   "metadata": {},
   "outputs": [],
   "source": [
    "kb_items = []\n",
    "\n",
    "sites = [\n",
    "    'usualwines',\n",
    "    'vinology',\n",
    "    'winemag',\n",
    "]\n",
    "\n",
    "for site in sites:\n",
    "    with open(f'terminology/{site}.json') as site_input_file:\n",
    "        kb_items.extend(\n",
    "            json.loads(site_input_file.read())\n",
    "        )\n",
    "\n",
    "kb_items = sorted(\n",
    "    kb_items,\n",
    "    key=lambda item: item['label']\n",
    ")"
   ]
  },
  {
   "cell_type": "code",
   "execution_count": null,
   "metadata": {},
   "outputs": [],
   "source": []
  },
  {
   "cell_type": "code",
   "execution_count": 3,
   "metadata": {},
   "outputs": [],
   "source": [
    "kb = {}\n",
    "cat_id = 1\n",
    "\n",
    "for item in kb_items:\n",
    "    \n",
    "    label = item['label']\n",
    "    definition = item['definition']\n",
    "\n",
    "    key = label.lower()\n",
    "\n",
    "    if key in kb:\n",
    "        kb[key]['definitions'].append(definition)\n",
    "    else:\n",
    "        kb[key] = {\n",
    "            'label': label,\n",
    "            'definitions': [definition],\n",
    "            'alias': [],\n",
    "            'concept': f'W-{cat_id}',\n",
    "            'category': '-1'\n",
    "        }\n",
    "\n",
    "        cat_id += 1"
   ]
  },
  {
   "cell_type": "code",
   "execution_count": null,
   "metadata": {},
   "outputs": [],
   "source": []
  },
  {
   "cell_type": "code",
   "execution_count": 5,
   "metadata": {},
   "outputs": [],
   "source": [
    "with open('./terminology/kb_v1.json', 'w') as vino_definitions:\n",
    "    vino_definitions.write(\n",
    "        json.dumps(list(kb.values()), indent=4)\n",
    "    )"
   ]
  },
  {
   "cell_type": "code",
   "execution_count": null,
   "metadata": {},
   "outputs": [],
   "source": []
  },
  {
   "cell_type": "code",
   "execution_count": null,
   "metadata": {},
   "outputs": [],
   "source": []
  },
  {
   "cell_type": "code",
   "execution_count": 9,
   "metadata": {},
   "outputs": [],
   "source": [
    "kb_items = []\n",
    "\n",
    "sites = [\n",
    "    'kb',\n",
    "]\n",
    "\n",
    "for site in sites:\n",
    "    with open(f'terminology/{site}.json') as site_input_file:\n",
    "        kb_items.extend(\n",
    "            json.loads(site_input_file.read())\n",
    "        )\n",
    "\n",
    "for i, a in enumerate(kb_items):\n",
    "    a['concept'] = f'W-{i+1}'\n"
   ]
  },
  {
   "cell_type": "code",
   "execution_count": 10,
   "metadata": {},
   "outputs": [],
   "source": [
    "with open('./terminology/kb.json', 'w') as vino_definitions:\n",
    "    vino_definitions.write(\n",
    "        json.dumps(list(kb_items), indent=4)\n",
    "    )"
   ]
  },
  {
   "cell_type": "code",
   "execution_count": null,
   "metadata": {},
   "outputs": [],
   "source": []
  }
 ]
}