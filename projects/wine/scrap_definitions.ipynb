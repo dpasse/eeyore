{
 "metadata": {
  "language_info": {
   "codemirror_mode": {
    "name": "ipython",
    "version": 3
   },
   "file_extension": ".py",
   "mimetype": "text/x-python",
   "name": "python",
   "nbconvert_exporter": "python",
   "pygments_lexer": "ipython3",
   "version": "3.8.5-final"
  },
  "orig_nbformat": 2,
  "kernelspec": {
   "name": "python37364bit3cf912283dc549d6bc11fd68faf51cdb",
   "display_name": "Python 3.7.3 64-bit",
   "language": "python"
  }
 },
 "nbformat": 4,
 "nbformat_minor": 2,
 "cells": [
  {
   "cell_type": "code",
   "execution_count": null,
   "metadata": {},
   "outputs": [],
   "source": []
  },
  {
   "cell_type": "code",
   "execution_count": 1,
   "metadata": {},
   "outputs": [],
   "source": [
    "import re\n",
    "import json\n",
    "import requests\n",
    "\n",
    "from bs4 import BeautifulSoup"
   ]
  },
  {
   "cell_type": "code",
   "execution_count": null,
   "metadata": {},
   "outputs": [],
   "source": []
  },
  {
   "cell_type": "code",
   "execution_count": 55,
   "metadata": {},
   "outputs": [],
   "source": [
    "def download(url):\n",
    "    response = requests.get(\n",
    "        url,\n",
    "        headers={'User-Agent': 'Mozilla/5.0'}\n",
    "    )\n",
    "\n",
    "    return response\n",
    "\n",
    "def parse(line):\n",
    "    parts = line.split(r' - ')\n",
    "\n",
    "    label = parts[0].strip()\n",
    "    definition = ' '.join(parts[1:]).strip()\n",
    "\n",
    "    if len(label) == 0:\n",
    "        return None\n",
    "\n",
    "    return {\n",
    "        'label': label[0].upper() + label[1:],\n",
    "        'definition': definition.lower()\n",
    "    }\n",
    "\n",
    "def transform_unicode(text):\n",
    "    text = re.sub('—', '-', text)\n",
    "    text = re.sub('\\xa0', ' ', text)\n",
    "    text = re.sub('\\u201c', '\"', text)\n",
    "    text = re.sub('\\u201d', '\"', text)\n",
    "    text = re.sub('\\u2019', \"`\", text)\n",
    "    text = re.sub('\\u2013', '-', text)\n",
    "    text = re.sub('\\u00e9', 'e', text)\n",
    "    text = re.sub('\\u00f4', 'o', text)\n",
    "    text = re.sub('\\u00fc', 'u', text)\n",
    "    text = re.sub('\\ufeff', ' ', text)\n",
    "\n",
    "    text = re.sub(r'\\(en\\)', '', text)\n",
    "    text = re.sub(r'[ ]+', ' ', text)\n",
    "\n",
    "    return text"
   ]
  },
  {
   "cell_type": "code",
   "execution_count": null,
   "metadata": {},
   "outputs": [],
   "source": []
  },
  {
   "source": [
    "### vinology"
   ],
   "cell_type": "markdown",
   "metadata": {}
  },
  {
   "cell_type": "code",
   "execution_count": 3,
   "metadata": {},
   "outputs": [],
   "source": [
    "bs = BeautifulSoup(\n",
    "    download('https://www.vinology.com/wine-terms/').text\n",
    ")"
   ]
  },
  {
   "cell_type": "code",
   "execution_count": null,
   "metadata": {},
   "outputs": [],
   "source": []
  },
  {
   "cell_type": "code",
   "execution_count": 4,
   "metadata": {},
   "outputs": [],
   "source": [
    "def clean(text):\n",
    "    text = transform_unicode(text)\n",
    "    text = re.sub(\n",
    "        'We created this glossary of wine terminology for all wine lovers, especially our wine students.\\s+In this wine dictionary, you can find the most important wine terms and their definitions. Enjoy!',\n",
    "        '',\n",
    "        text\n",
    "    )\n",
    "    text = re.sub(r'[ ]+', ' ', text)\n",
    "\n",
    "    return text\n",
    "\n",
    "div = bs.find(\n",
    "    'div',\n",
    "    { 'class': 'entry-content' }\n",
    ")\n",
    "\n",
    "ps = div.find_all('p')\n",
    "\n",
    "text = '\\n'.join(\n",
    "    [el.getText() for el in ps]\n",
    ")\n",
    "\n",
    "concepts = []\n",
    "for line in clean(text).split('\\n'):\n",
    "    if len(line) == 0:\n",
    "        continue\n",
    "\n",
    "    concept = parse(line)\n",
    "    if concept is not None:\n",
    "        concepts.append(concept)"
   ]
  },
  {
   "cell_type": "code",
   "execution_count": null,
   "metadata": {},
   "outputs": [],
   "source": []
  },
  {
   "cell_type": "code",
   "execution_count": 5,
   "metadata": {},
   "outputs": [],
   "source": [
    "with open('./terminology/vinology.json', 'w') as vino_definitions:\n",
    "    vino_definitions.write(\n",
    "        json.dumps(concepts, indent=4)\n",
    "    )"
   ]
  },
  {
   "cell_type": "code",
   "execution_count": null,
   "metadata": {},
   "outputs": [],
   "source": []
  },
  {
   "source": [
    "### winemag"
   ],
   "cell_type": "markdown",
   "metadata": {}
  },
  {
   "cell_type": "code",
   "execution_count": 6,
   "metadata": {},
   "outputs": [],
   "source": [
    "bs = BeautifulSoup(\n",
    "    download('https://www.winemag.com/glossary/').text\n",
    ")"
   ]
  },
  {
   "cell_type": "code",
   "execution_count": null,
   "metadata": {},
   "outputs": [],
   "source": []
  },
  {
   "cell_type": "code",
   "execution_count": 7,
   "metadata": {
    "tags": []
   },
   "outputs": [],
   "source": [
    "dls = bs.find_all('dl', { 'class': 'terms' })\n",
    "\n",
    "concepts = []\n",
    "for dl in dls:\n",
    "    text = '\\n'.join(\n",
    "        [ str(l) for l in dl.find_all(['dt', 'dd']) ]\n",
    "    )\n",
    "\n",
    "    text = re.sub(r'<dt[^>]+>', '', text)\n",
    "    text = re.sub(r'</dt>\\s+<dd>', ' - ', text)\n",
    "    text = re.sub(r'</dd>', '', text)\n",
    "    text = transform_unicode(text)\n",
    "\n",
    "    for line in text.split('\\n'):\n",
    "        concept = parse(line)\n",
    "        if concept is not None:\n",
    "            concepts.append(concept)"
   ]
  },
  {
   "cell_type": "code",
   "execution_count": null,
   "metadata": {},
   "outputs": [],
   "source": []
  },
  {
   "cell_type": "code",
   "execution_count": 8,
   "metadata": {},
   "outputs": [],
   "source": [
    "with open('./terminology/winemag.json', 'w') as winemag_definitions:\n",
    "    winemag_definitions.write(\n",
    "        json.dumps(concepts, indent=4)\n",
    "    )"
   ]
  },
  {
   "cell_type": "code",
   "execution_count": null,
   "metadata": {},
   "outputs": [],
   "source": []
  },
  {
   "source": [
    "### usualwines"
   ],
   "cell_type": "markdown",
   "metadata": {}
  },
  {
   "cell_type": "code",
   "execution_count": 9,
   "metadata": {},
   "outputs": [],
   "source": [
    "bs = BeautifulSoup(\n",
    "    download('https://usualwines.com/blogs/knowledge-base/wine-terms').text\n",
    ")"
   ]
  },
  {
   "cell_type": "code",
   "execution_count": null,
   "metadata": {},
   "outputs": [],
   "source": []
  },
  {
   "cell_type": "code",
   "execution_count": 56,
   "metadata": {
    "tags": []
   },
   "outputs": [],
   "source": [
    "article_wrapper = bs.find('div', { 'class': 'article-wrapper' })\n",
    "\n",
    "ps = article_wrapper.find_all('p')\n",
    "text = '\\n'.join(\n",
    "    [str(el) for el in ps]\n",
    ")\n",
    "\n",
    "text = re.sub(r'<p><b>(.+?)</b></p>', 'DEF: \\g<1> - ', text, flags=re.MULTILINE)\n",
    "text = re.sub(r'<span[^>]+?>(.+?)</span>', ' \\g<1> ', text)\n",
    "text = re.sub(r'<a[^>]+?>(.+?)</a>', ' \\g<1> ', text)\n",
    "text = re.sub(r'<img[^>]+?/>', ' ', text)\n",
    "text = re.sub(r'\\s+<p>(.+?)</p>', ' \\g<1> ', text)\n",
    "text = re.sub(r'<strong>(.+?)</strong>', ' \\g<1> ', text)\n",
    "\n",
    "text = transform_unicode(text)\n",
    "\n",
    "definitions = re.findall(\n",
    "    r'^DEF:[^\\n]+', text,\n",
    "    flags=re.MULTILINE\n",
    ")\n",
    "\n",
    "concepts = []\n",
    "for line in definitions:\n",
    "    line = re.sub(r'^DEF:', ' ', line)\n",
    "\n",
    "    concept = parse(line)\n",
    "    if concept is not None:\n",
    "        concepts.append(concept)"
   ]
  },
  {
   "cell_type": "code",
   "execution_count": null,
   "metadata": {},
   "outputs": [],
   "source": []
  },
  {
   "cell_type": "code",
   "execution_count": 57,
   "metadata": {},
   "outputs": [],
   "source": [
    "with open('./terminology/usualwines.json', 'w') as winemag_definitions:\n",
    "    winemag_definitions.write(\n",
    "        json.dumps(concepts, indent=4)\n",
    "    )"
   ]
  },
  {
   "cell_type": "code",
   "execution_count": null,
   "metadata": {},
   "outputs": [],
   "source": []
  }
 ]
}