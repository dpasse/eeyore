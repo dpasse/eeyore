{
 "metadata": {
  "language_info": {
   "codemirror_mode": {
    "name": "ipython",
    "version": 3
   },
   "file_extension": ".py",
   "mimetype": "text/x-python",
   "name": "python",
   "nbconvert_exporter": "python",
   "pygments_lexer": "ipython3",
   "version": "3.9.1"
  },
  "orig_nbformat": 2,
  "kernelspec": {
   "name": "python3",
   "display_name": "Python 3",
   "language": "python"
  }
 },
 "nbformat": 4,
 "nbformat_minor": 2,
 "cells": [
  {
   "cell_type": "code",
   "execution_count": null,
   "metadata": {},
   "outputs": [],
   "source": []
  },
  {
   "cell_type": "code",
   "execution_count": 1,
   "metadata": {},
   "outputs": [],
   "source": [
    "import sys\n",
    "import re\n",
    "from bs4 import BeautifulSoup\n",
    "\n",
    "sys.path.insert(0, '../../src')\n",
    "\n",
    "from eeyore_nlp.pumps import WebPump, ContextPump\n",
    "from eeyore_nlp.pipelines import ContextTokenizer, \\\n",
    "                                 TextPipeline, \\\n",
    "                                 TextPipe, \\\n",
    "                                 ContractionsTextPipe, \\\n",
    "                                 ContextPipeline, \\\n",
    "                                 TokenAttributesPipe\n",
    "\n",
    "from eeyore_nlp.utils import RelationshipBuilder\n",
    "from eeyore_nlp.generators import MarkovChain\n",
    "from eeyore_nlp.models import RelationshipContainer, RelationshipKey"
   ]
  },
  {
   "cell_type": "code",
   "execution_count": null,
   "metadata": {},
   "outputs": [],
   "source": []
  },
  {
   "cell_type": "code",
   "execution_count": 2,
   "metadata": {},
   "outputs": [],
   "source": [
    "class EspnContentScrapper(TextPipe):\n",
    "    def __init__(self, order):\n",
    "        super().__init__(order)\n",
    "    \n",
    "    def execute(self, text: str) -> str:\n",
    "        bs = BeautifulSoup(text, 'html.parser')\n",
    "\n",
    "        elements_to_remove = [\n",
    "            bs.find_all('ul', 'article-social'),\n",
    "            bs.find_all('div', 'article-meta'),\n",
    "            bs.find_all('aside'),\n",
    "            bs.find_all('div', 'teads-inread'),\n",
    "            bs.find_all('figure'),\n",
    "            bs.find_all('div', 'cookie-overlay')\n",
    "        ]\n",
    "\n",
    "        for element_search in elements_to_remove:\n",
    "            for tag in element_search:\n",
    "                tag.decompose()\n",
    "\n",
    "        for a in bs.find_all('a'):\n",
    "            a.replaceWith(a.text)\n",
    "\n",
    "        p = [ p.text for p in bs.find_all('p') ]\n",
    "\n",
    "        return '\\n'.join(p).strip()\n",
    "\n",
    "class EspnTextTransformer(TextPipe):\n",
    "    def __init__(self, order):\n",
    "        super().__init__(order)\n",
    "\n",
    "    def execute(self, text: str) -> str:\n",
    "        ## annoying terms\n",
    "        document = re.sub(r'(\\s)No[.](\\s)', '\\g<1> Number \\g<2>', text)\n",
    "\n",
    "        document = re.sub(r'(^|\\s)\"', '\\g<1>``', document)\n",
    "        document = re.sub(r'\"(\\s|$)', \"''\\g<1>\", document)\n",
    "\n",
    "        ## numbers\n",
    "        document = re.sub(r'[$]\\s*[\\d]+[.]?[\\d]*', ' PRICE ', document)\n",
    "        document = re.sub(r'[\\d]+[.]?[\\d]*\\s*[%]', ' PERCENTAGE ', document)\n",
    "        document = re.sub(r'[\\d]+[.][\\d]+', ' FLOAT ', document)\n",
    "        document = re.sub(r'[\\d]+', ' INTEGER ', document)\n",
    "        \n",
    "        return document"
   ]
  },
  {
   "cell_type": "code",
   "execution_count": null,
   "metadata": {},
   "outputs": [],
   "source": []
  },
  {
   "cell_type": "code",
   "execution_count": 3,
   "metadata": {},
   "outputs": [],
   "source": [
    "context_pump = ContextPump(\n",
    "    WebPump([\n",
    "        'https://www.espn.com/nfl/story/_/id/31433376/',\n",
    "        'https://www.espn.com/nfl/story/_/id/31431382/',\n",
    "        'https://www.espn.com/nfl/story/_/id/31431361/',\n",
    "        'https://www.espn.com/horse-racing/story/_/id/31462471/',\n",
    "        'https://www.espn.com/nba/story/_/id/31463530/',\n",
    "        'https://www.espn.com/mlb/story/_/id/31463594/',\n",
    "\n",
    "    ]),\n",
    "    ContextTokenizer(\n",
    "        text_preprocessor=TextPipeline(pipes=[\n",
    "            EspnContentScrapper(1),\n",
    "            ContractionsTextPipe(2),\n",
    "            EspnTextTransformer(3),\n",
    "        ]),\n",
    "        context_pipeline=ContextPipeline(pipes=[\n",
    "            TokenAttributesPipe(),\n",
    "        ])\n",
    "    )\n",
    ")"
   ]
  },
  {
   "cell_type": "code",
   "execution_count": 4,
   "metadata": {},
   "outputs": [
    {
     "output_type": "stream",
     "name": "stdout",
     "text": [
      "Former Carolina quarterback Teddy Bridgewater on Wednesday questioned how the Panthers practiced in two critical areas that played a part in the organization moving on from him after the first year of a three-year contract.\n\n``I will just say this, for Joe Brady's growth they will have to practice different things in different ways,'' Bridgewater said of Carolina's offensive coordinator on the ``All Things Covered'' CBS Sports podcast with Patrick Peterson and Bryant McFadden.\n\n``One of the things we did not do much of when I was there, we did not practice two-minute drills, we did not practice red zone.\n\n"
     ]
    }
   ],
   "source": [
    "contexts = list(context_pump.execute())\n",
    "\n",
    "print(contexts[0].sentence)\n",
    "print()\n",
    "\n",
    "print(contexts[1].sentence)\n",
    "print()\n",
    "\n",
    "print(contexts[2].sentence)\n",
    "print()"
   ]
  },
  {
   "cell_type": "code",
   "execution_count": null,
   "metadata": {},
   "outputs": [],
   "source": []
  },
  {
   "cell_type": "code",
   "execution_count": 5,
   "metadata": {
    "tags": []
   },
   "outputs": [],
   "source": [
    "container = RelationshipContainer()\n",
    "builder = RelationshipBuilder()\n",
    "\n",
    "for context in contexts:\n",
    "    relationships = builder.create_neighbor_relationships(\n",
    "        context.get('tokens')\n",
    "    )\n",
    "    container.add_many(relationships)\n",
    "\n",
    "assert RelationshipKey('<start>') in container\n",
    "assert RelationshipKey('<end>') in container"
   ]
  },
  {
   "cell_type": "code",
   "execution_count": null,
   "metadata": {},
   "outputs": [],
   "source": []
  },
  {
   "cell_type": "code",
   "execution_count": 6,
   "metadata": {},
   "outputs": [
    {
     "output_type": "stream",
     "name": "stdout",
     "text": [
      "['<start>', 'The', 'Bucs', 'will', 'be', 'allowed', 'on', 'Monday']\n\n['<start>', 'The', 'NFL', \"'s\", 'ongoing', 'investigation', 'into', 'Rookie']\n\n['<start>', 'The', 'Week', 'INTEGER', 'and', 'winning', 'three', 'titles']\n\n['<start>', 'TAMPA', ',', 'throwing', 'INTEGER', '-', 'INTEGER', 'NFL']\n\n['<start>', 'I', 'was', 'fined', 'in', 'INTEGER', '--', 'second']\n\n['<start>', 'His', 'franchise', 'record-matching', 'streak', 'of', 'prerace', 'testing']\n\n"
     ]
    }
   ],
   "source": [
    "chain = MarkovChain()\n",
    "for i in range(6):\n",
    "    print(\n",
    "        [\n",
    "            output.primary.term\n",
    "            for output\n",
    "            in chain.generate(\n",
    "                container,\n",
    "                kill=8)\n",
    "        ]\n",
    "    )\n",
    "    print()"
   ]
  },
  {
   "cell_type": "code",
   "execution_count": null,
   "metadata": {},
   "outputs": [],
   "source": []
  },
  {
   "source": [
    "## using pos + token"
   ],
   "cell_type": "markdown",
   "metadata": {}
  },
  {
   "cell_type": "code",
   "execution_count": 7,
   "metadata": {},
   "outputs": [],
   "source": [
    "container = RelationshipContainer()\n",
    "builder = RelationshipBuilder()\n",
    "\n",
    "for context in contexts:\n",
    "    relationships = builder.create_relationships_by_context(\n",
    "        ['tokens', 'pos'],\n",
    "        context\n",
    "    )\n",
    "    container.add_many(relationships)\n",
    "\n",
    "assert RelationshipKey('<start>') in container\n",
    "assert RelationshipKey('<end>') in container"
   ]
  },
  {
   "cell_type": "code",
   "execution_count": 9,
   "metadata": {},
   "outputs": [
    {
     "output_type": "stream",
     "name": "stdout",
     "text": [
      "['<start>', 'We', 'did', 'not', 'have', 'that', 'was', 'INTEGER']\n\n['<start>', 'Even', 'a', 'successful', 'thoroughbred', 'racing', 'industry', ',']\n\n['<start>', 'The', 'Panthers', 'traded', 'a', 'left', 'hand', 'and']\n\n['<start>', 'They', 'also', 'ranked', 'INTEGER', 'season', 'and', 'not']\n\n['<start>', 'There', 'are', 'pretty', 'organized', '.', '<end>']\n\n"
     ]
    }
   ],
   "source": [
    "chain = MarkovChain()\n",
    "for i in range(5):\n",
    "    print(\n",
    "        [\n",
    "            output.primary.term\n",
    "            for output\n",
    "            in chain.generate(\n",
    "                container,\n",
    "                kill=8)\n",
    "        ]\n",
    "    )\n",
    "    print()"
   ]
  },
  {
   "cell_type": "code",
   "execution_count": null,
   "metadata": {},
   "outputs": [],
   "source": []
  }
 ]
}