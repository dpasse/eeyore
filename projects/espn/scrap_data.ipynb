{
 "metadata": {
  "language_info": {
   "codemirror_mode": {
    "name": "ipython",
    "version": 3
   },
   "file_extension": ".py",
   "mimetype": "text/x-python",
   "name": "python",
   "nbconvert_exporter": "python",
   "pygments_lexer": "ipython3",
   "version": "3.9.1"
  },
  "orig_nbformat": 2,
  "kernelspec": {
   "name": "python3",
   "display_name": "Python 3",
   "language": "python"
  }
 },
 "nbformat": 4,
 "nbformat_minor": 2,
 "cells": [
  {
   "cell_type": "code",
   "execution_count": null,
   "metadata": {},
   "outputs": [],
   "source": []
  },
  {
   "cell_type": "code",
   "execution_count": 1,
   "metadata": {},
   "outputs": [],
   "source": [
    "import sys\n",
    "from bs4 import BeautifulSoup\n",
    "\n",
    "sys.path.insert(0, '../../src')\n",
    "\n",
    "from eeyore_nlp.pumps import WebPump, ContextPump\n",
    "from eeyore_nlp.pipelines import ContextTokenizer, TextPipeline, TextPipe"
   ]
  },
  {
   "cell_type": "code",
   "execution_count": null,
   "metadata": {},
   "outputs": [],
   "source": []
  },
  {
   "cell_type": "code",
   "execution_count": 2,
   "metadata": {},
   "outputs": [],
   "source": [
    "class EspnContentScrapper(TextPipe):\n",
    "    def __init__(self):\n",
    "        super().__init__(1)\n",
    "    \n",
    "    def execute(self, text: str) -> str:\n",
    "        bs = BeautifulSoup(text, 'html.parser')\n",
    "\n",
    "        elements_to_remove = [\n",
    "            bs.find_all('ul', 'article-social'),\n",
    "            bs.find_all('div', 'article-meta'),\n",
    "            bs.find_all('aside'),\n",
    "            bs.find_all('div', 'teads-inread'),\n",
    "            bs.find_all('figure'),\n",
    "            bs.find_all('div', 'cookie-overlay')\n",
    "        ]\n",
    "\n",
    "        for element_search in elements_to_remove:\n",
    "            for tag in element_search:\n",
    "                tag.decompose()\n",
    "\n",
    "        for a in bs.find_all('a'):\n",
    "            a.replaceWith(a.text)\n",
    "\n",
    "        p = [ p.text for p in bs.find_all('p') ]\n",
    "\n",
    "        return '\\n'.join(p).strip()"
   ]
  },
  {
   "cell_type": "code",
   "execution_count": null,
   "metadata": {},
   "outputs": [],
   "source": []
  },
  {
   "cell_type": "code",
   "execution_count": 3,
   "metadata": {},
   "outputs": [],
   "source": [
    "context_pump = ContextPump(\n",
    "    WebPump([\n",
    "        'https://www.espn.com/nfl/story/_/id/31433376/',\n",
    "    ]),\n",
    "    ContextTokenizer(\n",
    "        text_preprocessor=TextPipeline(pipes=[\n",
    "            EspnContentScrapper()\n",
    "        ])\n",
    "    )\n",
    ")\n",
    "\n",
    "generator = context_pump.execute()"
   ]
  },
  {
   "cell_type": "code",
   "execution_count": null,
   "metadata": {},
   "outputs": [],
   "source": []
  },
  {
   "cell_type": "code",
   "execution_count": 4,
   "metadata": {},
   "outputs": [
    {
     "output_type": "stream",
     "name": "stdout",
     "text": [
      "Former Carolina quarterback Teddy Bridgewater on Wednesday questioned how the Panthers practiced in two critical areas that played a part in the organization moving on from him after the first year of a three-year contract.\n\n\"I'll just say this, for Joe Brady's growth they'll have to practice different things in different ways,\" Bridgewater said of Carolina's offensive coordinator on the \"All Things Covered\" CBS Sports podcast with Patrick Peterson and Bryant McFadden.\n\n\"One of the things we didn't do much of when I was there, we didn't practice two-minute drills, we didn't practice red zone.\n"
     ]
    }
   ],
   "source": [
    "print(next(generator).sentence)\n",
    "print()\n",
    "print(next(generator).sentence)\n",
    "print()\n",
    "print(next(generator).sentence)"
   ]
  },
  {
   "cell_type": "code",
   "execution_count": null,
   "metadata": {},
   "outputs": [],
   "source": []
  }
 ]
}